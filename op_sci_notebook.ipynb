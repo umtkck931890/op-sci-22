{
 "cells": [
  {
   "cell_type": "markdown",
   "id": "7e4d9eac-2acf-4d0c-8bf0-7243e1a2c0de",
   "metadata": {},
   "source": [
    "#25.03.2022\n",
    ">Installation"
   ]
  },
  {
   "cell_type": "code",
   "execution_count": null,
   "id": "a9d6d355-7b05-49cc-854f-8e0b6c5abb62",
   "metadata": {},
   "outputs": [],
   "source": []
  }
 ],
 "metadata": {
  "kernelspec": {
   "display_name": "Python 3 (ipykernel)",
   "language": "python",
   "name": "python3"
  },
  "language_info": {
   "codemirror_mode": {
    "name": "ipython",
    "version": 3
   },
   "file_extension": ".py",
   "mimetype": "text/x-python",
   "name": "python",
   "nbconvert_exporter": "python",
   "pygments_lexer": "ipython3",
   "version": "3.10.1"
  }
 },
 "nbformat": 4,
 "nbformat_minor": 5
}
